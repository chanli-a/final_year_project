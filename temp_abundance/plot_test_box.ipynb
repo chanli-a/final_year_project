{
 "cells": [
  {
   "cell_type": "code",
   "execution_count": 6,
   "id": "34e0bb1f",
   "metadata": {},
   "outputs": [
    {
     "name": "stdout",
     "output_type": "stream",
     "text": [
      "283.15    100\n",
      "287.15    100\n",
      "291.15    100\n",
      "295.15    100\n",
      "299.15    100\n",
      "303.15    100\n",
      "307.15    100\n",
      "311.15    100\n",
      "Name: T_bin_K, dtype: int64\n"
     ]
    }
   ],
   "source": [
    "import pandas as pd\n",
    "import numpy as np\n",
    "\n",
    "# 1. load your original CSV\n",
    "df = pd.read_csv(\"output/metrics_N50_backup.csv\")\n",
    "\n",
    "# 2. build a mapping old‐Tₖ → new bin label (we’ll use the lower °C bound in Kelvin)\n",
    "#    define the bin edges in °C, then convert to Kelvin\n",
    "bin_edges_C = np.arange(10, 40 + 4, 4)    # [10,14,18,…,38,42]\n",
    "bin_edges_K = bin_edges_C + 273.15        # [283.15,287.15,…,311.15,315.15]\n",
    "\n",
    "# 3. assign each Tₖ to its 4 °C bin\n",
    "#    we’ll label each group by its lower‐edge Kelvin value\n",
    "df[\"T_bin_K\"] = pd.cut(\n",
    "    df[\"T_K\"],\n",
    "    bins=bin_edges_K,\n",
    "    right=False,                         # include left edge, exclude right\n",
    "    labels=bin_edges_K[:-1]             # labels: 283.15, 287.15, …, 311.15\n",
    ").astype(float)\n",
    "\n",
    "# 4. check counts (should be 100 replicates × 2 temps = 200 rows per bin)\n",
    "print(df[\"T_bin_K\"].value_counts().sort_index())\n",
    "\n",
    "# 5. save your new “coarse‐by‐4°C” CSV\n",
    "df.to_csv(\"output/metrics_N50_coarse.csv\", index=False)\n"
   ]
  },
  {
   "cell_type": "code",
   "execution_count": 7,
   "id": "3dccccef",
   "metadata": {},
   "outputs": [
    {
     "name": "stdout",
     "output_type": "stream",
     "text": [
      "   replicate     T_K  T_C   ErrEqAb  overlap  jaccard  shannon_mi  shannon_lv  \\\n",
      "0          1  283.15   10  0.208039        4      1.0    0.838529    0.845846   \n",
      "1          1  285.15   12  0.531397        5      1.0    1.054256    1.055717   \n",
      "2          1  287.15   14  0.201790        6      1.0    1.426562    1.426575   \n",
      "3          1  289.15   16  0.140135        7      1.0    1.441895    1.442605   \n",
      "4          1  291.15   18  0.054465        6      1.0    1.249400    1.249017   \n",
      "\n",
      "   bray_curtis                      stab_glv  ...  react_mi  abs_react_err  \\\n",
      "0     0.001326  (-3.2516942847322756e-05+0j)  ...  2.072370       2.064175   \n",
      "1     0.000220   (-3.229752155569835e-06+0j)  ...  4.447996       4.429797   \n",
      "2     0.000020  (-1.5863929978196918e-09+0j)  ...  1.349913       1.345524   \n",
      "3     0.000652    (-9.68418626807156e-10+0j)  ...  1.474382       1.453471   \n",
      "4     0.000441    (-3.44534350967518e-10+0j)  ...  1.610447       1.571169   \n",
      "\n",
      "      tau_C     tau_R   epsilon      t_eq_mi  log10_eps_t_eq  hessian_norm  \\\n",
      "0  1.359676  0.572623  2.374469  1000.000000       -2.624433  1.710000e-07   \n",
      "1  0.658473  0.575687  1.143803  1000.000000       -2.941649  2.040000e-07   \n",
      "2  1.576860  0.715928  2.202539   874.371859       -2.598773  4.490000e-07   \n",
      "3  0.685511  0.709811  0.965766  1000.000000       -3.015128  6.090000e-07   \n",
      "4  0.451118  0.398351  1.132462  1000.000000       -2.945976  9.500000e-07   \n",
      "\n",
      "   non_normality  T_bin_K  \n",
      "0      90.476592   283.15  \n",
      "1     334.202581   283.15  \n",
      "2      72.080057   287.15  \n",
      "3      68.885296   287.15  \n",
      "4      74.678685   291.15  \n",
      "\n",
      "[5 rows x 23 columns]\n",
      "283.15    100\n",
      "287.15    100\n",
      "291.15    100\n",
      "295.15    100\n",
      "299.15    100\n",
      "303.15    100\n",
      "307.15    100\n",
      "311.15    100\n",
      "Name: T_bin_K, dtype: int64\n"
     ]
    }
   ],
   "source": [
    "df2 = pd.read_csv(\"output/metrics_N50_coarse.csv\")\n",
    "print(df2.head())\n",
    "print(df2[\"T_bin_K\"].value_counts().sort_index())"
   ]
  },
  {
   "cell_type": "code",
   "execution_count": 8,
   "id": "bc18be08",
   "metadata": {},
   "outputs": [
    {
     "name": "stdout",
     "output_type": "stream",
     "text": [
      "283.15    100\n",
      "287.15    100\n",
      "291.15    100\n",
      "295.15    100\n",
      "299.15    100\n",
      "303.15    100\n",
      "307.15    100\n",
      "311.15    100\n",
      "Name: T_bin_K, dtype: int64\n"
     ]
    }
   ],
   "source": [
    "import pandas as pd\n",
    "import numpy as np\n",
    "\n",
    "# 1. load your original CSV\n",
    "df = pd.read_csv(\"output/traj_N50_backup.csv\")\n",
    "\n",
    "# 2. build a mapping old‐Tₖ → new bin label (we’ll use the lower °C bound in Kelvin)\n",
    "#    define the bin edges in °C, then convert to Kelvin\n",
    "bin_edges_C = np.arange(10, 40 + 4, 4)    # [10,14,18,…,38,42]\n",
    "bin_edges_K = bin_edges_C + 273.15        # [283.15,287.15,…,311.15,315.15]\n",
    "\n",
    "# 3. assign each Tₖ to its 4 °C bin\n",
    "#    we’ll label each group by its lower‐edge Kelvin value\n",
    "df[\"T_bin_K\"] = pd.cut(\n",
    "    df[\"T_K\"],\n",
    "    bins=bin_edges_K,\n",
    "    right=False,                         # include left edge, exclude right\n",
    "    labels=bin_edges_K[:-1]             # labels: 283.15, 287.15, …, 311.15\n",
    ").astype(float)\n",
    "\n",
    "# 4. check counts (should be 100 replicates × 2 temps = 200 rows per bin)\n",
    "print(df[\"T_bin_K\"].value_counts().sort_index())\n",
    "\n",
    "# 5. save your new “coarse‐by‐4°C” CSV\n",
    "df.to_csv(\"output/traj_N50_coarse.csv\", index=False)"
   ]
  },
  {
   "cell_type": "code",
   "execution_count": 9,
   "id": "22660945",
   "metadata": {},
   "outputs": [
    {
     "name": "stdout",
     "output_type": "stream",
     "text": [
      "   replicate     T_K  T_C   ErrEqAb  overlap  jaccard  shannon_mi  shannon_lv  \\\n",
      "0          1  283.15   10  0.208039        4      1.0    0.838529    0.845846   \n",
      "1          1  285.15   12  0.531397        5      1.0    1.054256    1.055717   \n",
      "2          1  287.15   14  0.201790        6      1.0    1.426562    1.426575   \n",
      "3          1  289.15   16  0.140135        7      1.0    1.441895    1.442605   \n",
      "4          1  291.15   18  0.054465        6      1.0    1.249400    1.249017   \n",
      "\n",
      "   bray_curtis                      stab_glv  ...  react_mi  abs_react_err  \\\n",
      "0     0.001326  (-3.2516942847322756e-05+0j)  ...  2.072370       2.064175   \n",
      "1     0.000220   (-3.229752155569835e-06+0j)  ...  4.447996       4.429797   \n",
      "2     0.000020  (-1.5863929978196918e-09+0j)  ...  1.349913       1.345524   \n",
      "3     0.000652    (-9.68418626807156e-10+0j)  ...  1.474382       1.453471   \n",
      "4     0.000441    (-3.44534350967518e-10+0j)  ...  1.610447       1.571169   \n",
      "\n",
      "      tau_C     tau_R   epsilon      t_eq_mi  log10_eps_t_eq  hessian_norm  \\\n",
      "0  1.359676  0.572623  2.374469  1000.000000       -2.624433  1.710000e-07   \n",
      "1  0.658473  0.575687  1.143803  1000.000000       -2.941649  2.040000e-07   \n",
      "2  1.576860  0.715928  2.202539   874.371859       -2.598773  4.490000e-07   \n",
      "3  0.685511  0.709811  0.965766  1000.000000       -3.015128  6.090000e-07   \n",
      "4  0.451118  0.398351  1.132462  1000.000000       -2.945976  9.500000e-07   \n",
      "\n",
      "   non_normality  T_bin_K  \n",
      "0      90.476592   283.15  \n",
      "1     334.202581   283.15  \n",
      "2      72.080057   287.15  \n",
      "3      68.885296   287.15  \n",
      "4      74.678685   291.15  \n",
      "\n",
      "[5 rows x 23 columns]\n",
      "283.15    100\n",
      "287.15    100\n",
      "291.15    100\n",
      "295.15    100\n",
      "299.15    100\n",
      "303.15    100\n",
      "307.15    100\n",
      "311.15    100\n",
      "Name: T_bin_K, dtype: int64\n"
     ]
    }
   ],
   "source": [
    "df2 = pd.read_csv(\"output/metrics_N50_coarse.csv\")\n",
    "print(df2.head())\n",
    "print(df2[\"T_bin_K\"].value_counts().sort_index())"
   ]
  }
 ],
 "metadata": {
  "kernelspec": {
   "display_name": "base",
   "language": "python",
   "name": "python3"
  },
  "language_info": {
   "codemirror_mode": {
    "name": "ipython",
    "version": 3
   },
   "file_extension": ".py",
   "mimetype": "text/x-python",
   "name": "python",
   "nbconvert_exporter": "python",
   "pygments_lexer": "ipython3",
   "version": "3.9.13"
  }
 },
 "nbformat": 4,
 "nbformat_minor": 5
}
